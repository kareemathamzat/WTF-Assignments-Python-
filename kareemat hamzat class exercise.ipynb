{
 "cells": [
  {
   "cell_type": "markdown",
   "id": "d2c03405",
   "metadata": {},
   "source": [
    " Print First 10 natural numbers using while loop"
   ]
  },
  {
   "cell_type": "code",
   "execution_count": 4,
   "id": "1c5dd865",
   "metadata": {},
   "outputs": [
    {
     "name": "stdout",
     "output_type": "stream",
     "text": [
      "1\n",
      "2\n",
      "3\n",
      "4\n",
      "5\n",
      "6\n",
      "7\n",
      "8\n",
      "9\n",
      "10\n"
     ]
    }
   ],
   "source": [
    "i =1\n",
    "while i <= 10:\n",
    "    print(i)\n",
    "    i = i+1"
   ]
  },
  {
   "cell_type": "markdown",
   "id": "64ebaeea",
   "metadata": {},
   "source": [
    "Write a program to print the following number pattern using a loop"
   ]
  },
  {
   "cell_type": "code",
   "execution_count": 10,
   "id": "c5d0176c",
   "metadata": {},
   "outputs": [
    {
     "name": "stdout",
     "output_type": "stream",
     "text": [
      "1  \n",
      "1 2  \n",
      "1 2 3  \n",
      "1 2 3 4  \n",
      "1 2 3 4 5  \n"
     ]
    }
   ],
   "source": [
    "for row in range(1,6):\n",
    "    for j in range(1,row+1):\n",
    "        print(j, end =' ')\n",
    "    print(' ')\n",
    "    "
   ]
  },
  {
   "cell_type": "markdown",
   "id": "8faae681",
   "metadata": {},
   "source": [
    "Calculate the sum of all numbers from 1 to a given number"
   ]
  },
  {
   "cell_type": "code",
   "execution_count": 13,
   "id": "2641a964",
   "metadata": {},
   "outputs": [
    {
     "name": "stdout",
     "output_type": "stream",
     "text": [
      "Enter a number; 6\n",
      "The sum is 21\n"
     ]
    }
   ],
   "source": [
    "x = int(input('Enter a number; '))\n",
    "s = sum(range(1,x+1))\n",
    "print('The sum is {}'.format(s))\n"
   ]
  },
  {
   "cell_type": "markdown",
   "id": "fd393b0d",
   "metadata": {},
   "source": [
    "Write a program to print multiplication table of a given number"
   ]
  },
  {
   "cell_type": "code",
   "execution_count": 14,
   "id": "7b57674e",
   "metadata": {},
   "outputs": [
    {
     "name": "stdout",
     "output_type": "stream",
     "text": [
      "Enter a number; 3\n",
      "3\n",
      "6\n",
      "9\n",
      "12\n",
      "15\n",
      "18\n",
      "21\n",
      "24\n",
      "27\n",
      "30\n",
      "33\n",
      "36\n"
     ]
    }
   ],
   "source": [
    "n = int(input('Enter a number; '))\n",
    "for i in range(1,13):\n",
    "    print(n*i)"
   ]
  },
  {
   "cell_type": "markdown",
   "id": "da40c0ec",
   "metadata": {},
   "source": [
    "Print list in reverse order using a loop"
   ]
  },
  {
   "cell_type": "code",
   "execution_count": 18,
   "id": "09d70744",
   "metadata": {},
   "outputs": [
    {
     "name": "stdout",
     "output_type": "stream",
     "text": [
      "30\n",
      "25\n",
      "20\n",
      "15\n",
      "10\n"
     ]
    }
   ],
   "source": [
    "list1 =[10,15,20,25,30]\n",
    "new_list = reversed(list1)\n",
    "for item in new_list:\n",
    "    print(item)"
   ]
  },
  {
   "cell_type": "markdown",
   "id": "1b402ffb",
   "metadata": {},
   "source": [
    "Display numbers from -10 to -1 using for loop"
   ]
  },
  {
   "cell_type": "code",
   "execution_count": 19,
   "id": "14e50d99",
   "metadata": {},
   "outputs": [
    {
     "name": "stdout",
     "output_type": "stream",
     "text": [
      "-10\n",
      "-9\n",
      "-8\n",
      "-7\n",
      "-6\n",
      "-5\n",
      "-4\n",
      "-3\n",
      "-2\n",
      "-1\n"
     ]
    }
   ],
   "source": [
    "for num in range(-10,0,1):\n",
    "    print(num)"
   ]
  },
  {
   "cell_type": "markdown",
   "id": "48755465",
   "metadata": {},
   "source": [
    "Use else block to display a message “Done” after successful execution of for loop"
   ]
  },
  {
   "cell_type": "code",
   "execution_count": 20,
   "id": "b94953c6",
   "metadata": {},
   "outputs": [
    {
     "name": "stdout",
     "output_type": "stream",
     "text": [
      "0\n",
      "1\n",
      "2\n",
      "3\n",
      "4\n",
      "Done!\n"
     ]
    }
   ],
   "source": [
    "for var1 in range(5):\n",
    "    print(var1)\n",
    "else:\n",
    "    print('Done!')"
   ]
  },
  {
   "cell_type": "markdown",
   "id": "53b5f1ea",
   "metadata": {},
   "source": [
    "Write a program to display all prime numbers within a range"
   ]
  },
  {
   "cell_type": "code",
   "execution_count": 22,
   "id": "0171cfa1",
   "metadata": {},
   "outputs": [
    {
     "name": "stdout",
     "output_type": "stream",
     "text": [
      "Enter the start of a range; 4\n",
      "Enter the stop of a range; 25\n",
      "Prime numbers between 4 and 25 are;\n",
      "5\n",
      "7\n",
      "11\n",
      "13\n",
      "17\n",
      "19\n",
      "23\n"
     ]
    }
   ],
   "source": [
    "n = int(input('Enter the start of a range; '))\n",
    "k = int(input('Enter the stop of a range; '))\n",
    "print('Prime numbers between {} and {} are;'.format(n,k))\n",
    "for num in range(n, k + 1):\n",
    "    # if number is less than or equal to 1, it is not prime\n",
    "    if num > 1:\n",
    "        for i in range(2, num):\n",
    "            # check for factors\n",
    "            if (num % i) == 0:\n",
    "                # not a prime number so break inner loop and\n",
    "                # look for next number\n",
    "                break\n",
    "        else:\n",
    "            print(num)"
   ]
  },
  {
   "cell_type": "markdown",
   "id": "ba90bcc9",
   "metadata": {},
   "source": [
    "Display Fibonacci series up to 10 terms"
   ]
  },
  {
   "cell_type": "code",
   "execution_count": 23,
   "id": "eadfc129",
   "metadata": {},
   "outputs": [
    {
     "name": "stdout",
     "output_type": "stream",
     "text": [
      "1\n",
      "2\n",
      "3\n",
      "5\n",
      "8\n",
      "13\n",
      "21\n",
      "34\n",
      "55\n",
      "89\n"
     ]
    }
   ],
   "source": [
    "prev = 0\n",
    "next_num = 1\n",
    "\n",
    "for i in range(10):\n",
    "    new_num = prev + next_num\n",
    "    print(new_num)\n",
    "    prev = next_num\n",
    "    next_num = new_num"
   ]
  },
  {
   "cell_type": "markdown",
   "id": "d30bba70",
   "metadata": {},
   "source": [
    "Find the factorial of a given number"
   ]
  },
  {
   "cell_type": "code",
   "execution_count": 24,
   "id": "1665d210",
   "metadata": {},
   "outputs": [
    {
     "name": "stdout",
     "output_type": "stream",
     "text": [
      "Enter a number; 5\n",
      "The factorial of 5 is 120\n"
     ]
    }
   ],
   "source": [
    "num = int(input('Enter a number; '))\n",
    "factorial = 1\n",
    "if num < 0:\n",
    "    print(\"Factorial does not exist for negative numbers\")\n",
    "elif num == 0:\n",
    "    print(\"The factorial of 0 is 1\")\n",
    "else:\n",
    "    \n",
    "    for i in range(1, num + 1):\n",
    "        # multiply factorial by current number\n",
    "        factorial = factorial * i\n",
    "    print(\"The factorial of\", num, \"is\", factorial)"
   ]
  },
  {
   "cell_type": "markdown",
   "id": "bfc5be7b",
   "metadata": {},
   "source": [
    " Reverse a given integer number"
   ]
  },
  {
   "cell_type": "code",
   "execution_count": 29,
   "id": "14e207c9",
   "metadata": {},
   "outputs": [
    {
     "name": "stdout",
     "output_type": "stream",
     "text": [
      "Enter an integer; 23456\n",
      "Given Number  23456\n",
      "Reverse Number  65432\n"
     ]
    }
   ],
   "source": [
    "numb = int(input('Enter an integer; '))\n",
    "rev_numb =  0\n",
    "print(\"Given Number \", numb)\n",
    "while numb > 0:\n",
    "    reminder = numb % 10\n",
    "    rev_numb = (rev_numb * 10) + reminder\n",
    "    numb = numb // 10\n",
    "print(\"Reverse Number \", rev_numb)"
   ]
  },
  {
   "cell_type": "markdown",
   "id": "dd5eca21",
   "metadata": {},
   "source": [
    "Use a loop to display elements from a given list present at odd index positions"
   ]
  },
  {
   "cell_type": "code",
   "execution_count": 30,
   "id": "ec3ed6e0",
   "metadata": {},
   "outputs": [
    {
     "name": "stdout",
     "output_type": "stream",
     "text": [
      "20 40 60 80 100 "
     ]
    }
   ],
   "source": [
    "my_list = [10, 20, 30, 40, 50, 60, 70, 80, 90, 100]\n",
    "# start from index 1 with step 2( means 1, 3, 5, an so on)\n",
    "for i in my_list[1::2]: \n",
    "    print(i, end=\" \")"
   ]
  },
  {
   "cell_type": "markdown",
   "id": "5e685bc4",
   "metadata": {},
   "source": [
    "Calculate the cube of all numbers from 1 to a given number"
   ]
  },
  {
   "cell_type": "code",
   "execution_count": 31,
   "id": "7c35cfdf",
   "metadata": {},
   "outputs": [
    {
     "name": "stdout",
     "output_type": "stream",
     "text": [
      "Enter a number -> 5\n",
      "Current Number is : 1  and the cube is 1\n",
      "Current Number is : 2  and the cube is 8\n",
      "Current Number is : 3  and the cube is 27\n",
      "Current Number is : 4  and the cube is 64\n",
      "Current Number is : 5  and the cube is 125\n"
     ]
    }
   ],
   "source": [
    "input_number = int(input('Enter a number -> '))\n",
    "for i in range(1, input_number + 1):\n",
    "    print(\"Current Number is :\", i, \" and the cube is\", (i * i * i))\n",
    " "
   ]
  },
  {
   "cell_type": "code",
   "execution_count": null,
   "id": "3c082c30",
   "metadata": {},
   "outputs": [],
   "source": []
  }
 ],
 "metadata": {
  "kernelspec": {
   "display_name": "Python 3 (ipykernel)",
   "language": "python",
   "name": "python3"
  },
  "language_info": {
   "codemirror_mode": {
    "name": "ipython",
    "version": 3
   },
   "file_extension": ".py",
   "mimetype": "text/x-python",
   "name": "python",
   "nbconvert_exporter": "python",
   "pygments_lexer": "ipython3",
   "version": "3.11.5"
  }
 },
 "nbformat": 4,
 "nbformat_minor": 5
}
